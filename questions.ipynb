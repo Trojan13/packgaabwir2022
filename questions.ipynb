{
 "cells": [
  {
   "cell_type": "code",
   "execution_count": null,
   "metadata": {},
   "outputs": [],
   "source": [
    "!pip install --upgrade git+https://github.com/terrierteam/pyterrier_doc2query.git\n",
    "!pip install python-terrier==0.9.2\n",
    "!pip install semanticscholar"
   ]
  },
  {
   "attachments": {},
   "cell_type": "markdown",
   "metadata": {},
   "source": [
    "# Vorgehen\n",
    "1. Anfrage an das System senden\n",
    "    1.1. Generate Querries from CLEF-IP and ACL\n",
    "2. Bekommen Top K Dokumente\n",
    "3. Co-Autoren Analyse auf den Dokumenten\n",
    "4. Die Dokumente mit relevanten Dokumenten von Co-Autoren erweitern\n",
    "5. Gruppen aus den Dokumenten (3 Gruppen a 6, 3, 1)\n",
    "6. Größte Gruppe auswählen \n",
    "7. Termset C, mit den Termen die Expansion machen (Ansatz: Titel von Referenzen anstatt Abstracts verwenden)\n",
    "8. B01 Gewichtung zur Termordnung (Alternative: tfidf, bm25)\n",
    "9. B01 Unterart von DFR (Divergence from Randomness) ist bei Pyterrier zu finden\n",
    "10. Nicht entscheidend B01 zu Nutzen, sondern eine Art von DFR\n",
    "11. Semantic Scholar für Referenzen für jeweilige Publikation (haben auch ne API, Anfrage senden und Referenz zurück bekommen).\n",
    "\n",
    "\n",
    "# Links\n",
    "## ACL Anthology Corpus +  CLEF- IP\n",
    "https://github.com/shauryr/ACL-anthology-corpus\n",
    "http://www.ifs.tuwien.ac.at/~clef-ip/download-central.shtml"
   ]
  },
  {
   "attachments": {},
   "cell_type": "markdown",
   "metadata": {},
   "source": [
    "# 1. + 2. Anfrage an das System senden"
   ]
  },
  {
   "cell_type": "code",
   "execution_count": null,
   "metadata": {},
   "outputs": [],
   "source": [
    "import pyterrier as pt\n",
    "from semanticscholar import SemanticScholar\n",
    "import os\n",
    "\n",
    "if not pt.started():\n",
    "  pt.init()\n",
    "\n",
    "dataset = pt.datasets.get_dataset('irds:cord19/trec-covid')\n",
    "pt_index_path = 'F:\\Bibliotheken\\Desktop\\Skripte\\packgaabwir2022\\indices\\cord19'\n",
    "pt_properties_path =os.path.join(pt_index_path + \"/data.properties\")\n",
    "\n",
    "\n",
    "if not os.path.exists(pt_properties_path):\n",
    "  indexer = pt.index.IterDictIndexer(pt_index_path, blocks=True)\n",
    "  # Using SMART Stopword ATTENTION This is a global setting.\n",
    "  indexer.setProperty(\"stopwords.filename\", \"F:\\Bibliotheken\\Desktop\\Skripte\\packgaabwir2022\\en.txt\")\n",
    "  index_ref = indexer.index(dataset.get_corpus_iter(), \n",
    "                            fields=['title', 'doi', 'abstract'], \n",
    "                            meta=('docno',))\n",
    "  \n",
    "else:\n",
    "  index_ref = pt.IndexRef.of(pt_index_path + \"/data.properties\")\n",
    "  \n",
    "index = pt.IndexFactory.of(index_ref)"
   ]
  },
  {
   "cell_type": "code",
   "execution_count": null,
   "metadata": {},
   "outputs": [],
   "source": [
    "tf_idf = pt.BatchRetrieve(index, wmodel=\"TF_IDF\")\n",
    "tf_idf.search(\"corona virus symptoms\")"
   ]
  },
  {
   "attachments": {},
   "cell_type": "markdown",
   "metadata": {},
   "source": [
    "# 1.1. Generate Querries from CLEF-IP and ACL"
   ]
  },
  {
   "cell_type": "code",
   "execution_count": null,
   "metadata": {},
   "outputs": [],
   "source": [
    "# Trying to generate querries from the dataset. Currently not working\n",
    "# Try it with CLEF and ACL\n",
    "\n",
    "import pyterrier_doc2query\n",
    "\n",
    "\n",
    "if not pt.started():\n",
    "    pt.init()\n",
    "\n",
    "doc2query = pyterrier_doc2query.Doc2Query(append=True)\n",
    "dataset = pt.datasets.get_dataset('irds:cord19/trec-covid')\n",
    "pt_index_path = 'F:\\Bibliotheken\\Desktop\\Skripte\\packgaabwir2022\\indices\\cord19'\n",
    "pt_properties_path = os.path.join(pt_index_path + \"/data.properties\")\n",
    "\n",
    "\n",
    "if not os.path.exists(pt_properties_path):\n",
    "    indexer = pt.index.IterDictIndexer(pt_index_path, blocks=True)\n",
    "    indxer_pipe = doc2query >> indexer\n",
    "    indxer_pipe.index(dataset.get_corpus_iter())\n",
    "    indxer_pipe.setProperty(\n",
    "        \"stopwords.filename\", \"F:\\Bibliotheken\\Desktop\\Skripte\\packgaabwir2022\\en.txt\")\n",
    "    index_ref = indxer_pipe.index(dataset.get_corpus_iter(),\n",
    "                                  fields=['title', 'doi', 'abstract'],\n",
    "                                  meta=('docno',))\n",
    "\n",
    "else:\n",
    "    index_ref = pt.IndexRef.of(pt_index_path + \"/data.properties\")\n",
    "\n",
    "index = pt.IndexFactory.of(index_ref)"
   ]
  },
  {
   "attachments": {},
   "cell_type": "markdown",
   "metadata": {},
   "source": [
    "# 3. Co-Autoren Analyse auf den Dokumenten\n",
    "\n",
    "Next steps:\n",
    "Cycle through retrived docs. Get "
   ]
  },
  {
   "cell_type": "code",
   "execution_count": null,
   "metadata": {},
   "outputs": [],
   "source": [
    "import pandas as pd\n",
    "metadata = pd.read_csv('~/.ir_datasets/cord19/2020-07-16/metadata.csv', low_memory=False)\n",
    "metadata.columns"
   ]
  },
  {
   "cell_type": "code",
   "execution_count": null,
   "metadata": {},
   "outputs": [],
   "source": [
    "sch = SemanticScholar()\n",
    "\n",
    "author_dict = {}\n",
    "for id, authors in zip(metadata['cord_uid'], metadata['authors']):\n",
    "  author_dict[id] = authors\n",
    "\n",
    "# Add authors to retrieved docs\n",
    "# Go through all docs split the authors by name\n",
    "all_authors = doc['authors'].split('; ')\n",
    "for author in all_authors:\n",
    "    single_authors = author.split(', ')\n",
    "    for single_author in single_authors:\n",
    "      # ATTENTION Might need sleep(10) or sth because of API restrictions\n",
    "      results = sch.search_author(single_author)\n",
    "      if results:\n",
    "        results[0].papers\n",
    "        # Relevance? How to asses the relevance?\n"
   ]
  }
 ],
 "metadata": {
  "kernelspec": {
   "display_name": "Python 3",
   "language": "python",
   "name": "python3"
  },
  "language_info": {
   "name": "python",
   "version": "3.10.5 (tags/v3.10.5:f377153, Jun  6 2022, 16:14:13) [MSC v.1929 64 bit (AMD64)]"
  },
  "orig_nbformat": 4,
  "vscode": {
   "interpreter": {
    "hash": "ae50ba892a007039ee8b8cd0574fd987a1c048ef5b59b149546a5ae9fb6dc134"
   }
  }
 },
 "nbformat": 4,
 "nbformat_minor": 2
}
