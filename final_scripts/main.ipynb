{
 "cells": [
  {
   "attachments": {},
   "cell_type": "markdown",
   "metadata": {},
   "source": [
    "# Setup Code (Run first)\n"
   ]
  },
  {
   "cell_type": "code",
   "execution_count": 1,
   "metadata": {},
   "outputs": [],
   "source": [
    "from gensim.models import Word2Vec\n",
    "from tqdm import tqdm\n",
    "from pyterrier.measures import *\n",
    "from ir_utils import *\n",
    "import requests\n",
    "import os\n",
    "import pandas as pd\n",
    "import numpy as np\n",
    "import nltk\n",
    "import time\n",
    "import string"
   ]
  },
  {
   "cell_type": "code",
   "execution_count": 2,
   "metadata": {},
   "outputs": [
    {
     "name": "stderr",
     "output_type": "stream",
     "text": [
      "PyTerrier 0.9.2 has loaded Terrier 5.7 (built by craigm on 2022-11-10 18:30) and terrier-helper 0.0.7\n",
      "\n",
      "cord19/trec-covid documents: 100%|██████████| 192509/192509 [00:01<00:00, 136531.17it/s]\n"
     ]
    },
    {
     "name": "stdout",
     "output_type": "stream",
     "text": [
      "Got dataset and docs...\n",
      "Creating index...\n",
      "Got topics and qrels...\n"
     ]
    }
   ],
   "source": [
    "pt = get_pyterrier_instance()\n",
    "irds_trec_covid_dataset = pt.datasets.get_dataset('irds:cord19/trec-covid')\n",
    "irds_trec_covid_dataset_docs = pd.DataFrame(irds_trec_covid_dataset.get_corpus_iter())\n",
    "print('Got dataset and docs...')\n",
    "irds_trec_covid_dataset_metadata = pd.read_csv('~/.ir_datasets/cord19/2020-07-16/metadata.csv', low_memory=False)\n",
    "print('Creating index...')\n",
    "#irds_trec_covid_dataset_index = build_index('qetest', irds_trec_covid_dataset)\n",
    "irds_trec_covid_dataset_index = pt.IndexRef.of(\"F:\\Bibliotheken\\Desktop\\Skripte\\packgaabwir2022\\indices\\qetest1\\data.properties\")\n",
    "\n",
    "irds_trec_covid_dataset_topics_titles = irds_trec_covid_dataset.get_topics('title')\n",
    "irds_trec_covid_dataset_topics_qrels = irds_trec_covid_dataset.get_qrels()\n",
    "print('Got topics and qrels...')"
   ]
  },
  {
   "cell_type": "code",
   "execution_count": 3,
   "metadata": {},
   "outputs": [
    {
     "name": "stdout",
     "output_type": "stream",
     "text": [
      "Starting  preprocessing...\n",
      "Loading preprocessed data...\n",
      "Loading models ...\n",
      "Loading word2vec model...\n",
      "Downloading word2vec model...\n",
      "Got top 3 docs...\n"
     ]
    }
   ],
   "source": [
    "print('Starting  preprocessing...')\n",
    "irds_trec_covid_dataset_en_docs_preprocessed = preprocess_data(irds_trec_covid_dataset_docs)\n",
    "\n",
    "print('Loading models ...')\n",
    "initial_word2vec_model = get_initial_word2vec_model(irds_trec_covid_dataset_en_docs_preprocessed)\n",
    "global_word2vec_model = get_global_word2vec_model()\n",
    "\n",
    "top_k_docs = get_top_k_docs_bm25(irds_trec_covid_dataset_index, irds_trec_covid_dataset_topics_titles, 1)\n",
    "# 2.1.1 from procedure\n",
    "top_k_docs_title_tokens_df = get_query_qid_df_tokens_from_docs_by_field(irds_trec_covid_dataset_docs,top_k_docs) # [qid, query]\n",
    "print(\"Got top\",len(top_k_docs),\"docs...\")"
   ]
  },
  {
   "cell_type": "code",
   "execution_count": 4,
   "metadata": {},
   "outputs": [
    {
     "name": "stdout",
     "output_type": "stream",
     "text": [
      "Getting refence titles from sm and pubmed...\n",
      "172 titles found\n",
      "\n",
      "Getting relevant papers from authors...\n",
      "Searching current author: Lin, Jie\n",
      "Query: coronavirus super spreaders\n",
      "Searching current author: Yan, Kun\n",
      "Query: coronavirus super spreaders\n",
      "Searching current author: Zhang, Jingfeng\n",
      "Query: coronavirus super spreaders\n",
      "Searching current author: Cai, Ting\n",
      "Query: coronavirus super spreaders\n",
      "Searching current author: Zheng, Jianjun\n",
      "Query: coronavirus super spreaders\n",
      "Searching current author: Jing, Jane Lee Jia\n",
      "Query: what alcohol sanitizer kills coronavirus\n",
      "Searching current author: Pei Yi, Thong\n",
      "Query: what alcohol sanitizer kills coronavirus\n",
      "Searching current author: Bose, Rajendran J C\n",
      "Query: what alcohol sanitizer kills coronavirus\n",
      "Searching current author: McCarthy, Jason R\n",
      "Query: what alcohol sanitizer kills coronavirus\n",
      "Searching current author: Tharmalingam, Nagendran\n",
      "Query: what alcohol sanitizer kills coronavirus\n",
      "Searching current author: Madheswaran, Thiagarajan\n",
      "Query: what alcohol sanitizer kills coronavirus\n",
      "Searching current author: Keeling, M. J.\n",
      "Query: school reopening coronavirus\n",
      "Searching current author: Tildesley, M. J.\n",
      "Query: school reopening coronavirus\n",
      "Searching current author: Atkins, B. D.\n",
      "Query: school reopening coronavirus\n",
      "Searching current author: Penman, B.\n",
      "Query: school reopening coronavirus\n",
      "Searching current author: Southall, E.\n",
      "Query: school reopening coronavirus\n",
      "Searching current author: Guyver-Fletcher, G.\n",
      "Query: school reopening coronavirus\n",
      "Searching current author: Holmes, A.\n",
      "Query: school reopening coronavirus\n",
      "Searching current author: McKimm, H.\n",
      "Query: school reopening coronavirus\n",
      "Searching current author: Gorsich, E. E.\n",
      "Query: school reopening coronavirus\n",
      "Searching current author: Hill, E. M.\n",
      "Query: school reopening coronavirus\n",
      "Searching current author: Dyson, L.\n",
      "Query: school reopening coronavirus\n",
      "Tokens from top k docs...\n",
      "Preparing abstracts done.\n",
      "Tokens_top_k_docs_abstracts done.\n",
      "Top_k_docs_references_titles done.\n",
      "All_authors_relevant_papers_abstracts done.\n",
      "       qid       query\n",
      "0        0    outbreak\n",
      "1        1  coronaviru\n",
      "2        2     disease\n",
      "3        3        2019\n",
      "4        4     covid19\n",
      "...    ...         ...\n",
      "1657  1657       early\n",
      "1658  1658     covid19\n",
      "1659  1659    pandemic\n",
      "1660  1660    response\n",
      "1661  1661          uk\n",
      "\n",
      "[1662 rows x 2 columns]\n",
      "Ranking tokens...\n"
     ]
    }
   ],
   "source": [
    "print('Getting refence titles from sm and pubmed...') \n",
    "# 2.1.2 from procedure\n",
    "top_k_docs_references_titles = get_all_titles_from_references_of_docs_from_sm_and_pubmed(irds_trec_covid_dataset_metadata,irds_trec_covid_dataset_docs,top_k_docs)\n",
    "print('Getting relevant papers from authors...') \n",
    "# 2.1.3 from procedure\n",
    "top_k_docs_all_authors_relevant_papers_abstracts = get_field_for_all_relevant_authors(irds_trec_covid_dataset_metadata,top_k_docs,2,field=\"paperAbstract\")\n",
    "\n",
    "print('Tokens from top k docs...') \n",
    "top_k_docs_tokens_df = get_query_qid_df_from_all_preprocessed_tokens_of_docs(irds_trec_covid_dataset_metadata,top_k_docs,top_k_docs_references_titles,top_k_docs_all_authors_relevant_papers_abstracts,field=\"abstract\")\n",
    "\n",
    "print(top_k_docs_tokens_df)\n",
    "print('Ranking tokens...') \n",
    "# 2.1.4 from procedure\n",
    "top_k_docs_top_k_tokens_ranked = get_top_k_ranked_tokens_from_dataframe_with_bm25_and_bo1(irds_trec_covid_dataset_index,top_k_docs_tokens_df,2)"
   ]
  },
  {
   "cell_type": "code",
   "execution_count": 5,
   "metadata": {},
   "outputs": [
    {
     "name": "stdout",
     "output_type": "stream",
     "text": [
      "Preparing tokens for word2vec...\n",
      "preparing abstracts...\n",
      "preparing abstracts done.\n",
      "all_terms_per_sentences done.\n",
      "top_k_docs_references_titles done.\n",
      "all_authors_relevant_papers_abstracts done.\n",
      "Retraining word2vec...\n",
      "1662\n",
      "Expanding search terms...\n",
      "Ranking expanded tokens...\n"
     ]
    }
   ],
   "source": [
    "print('Preparing tokens for word2vec...') \n",
    "top_k_docs_all_tokenized_sentences = get_tokenized_sentences_for_word2vec(irds_trec_covid_dataset_metadata,top_k_docs,top_k_docs_references_titles,top_k_docs_all_authors_relevant_papers_abstracts)\n",
    "\n",
    "print('Retraining word2vec...') \n",
    "retrained_word2vec_model = retrain_word2vec_model(initial_word2vec_model,top_k_docs_all_tokenized_sentences)\n",
    "\n",
    "top_k_docs_tokens_array = query_qid_df_to_array(top_k_docs_tokens_df)\n",
    "print(len(top_k_docs_tokens_array))\n",
    "print('Expanding search terms...') \n",
    "top_k_docs_relevant_tokens_expanded_df = expand_search_terms(top_k_docs_tokens_array,retrained_word2vec_model,threshold=0.8,max_expansion_word_count=5)\n",
    "\n",
    "\n",
    "print('Ranking expanded tokens...')\n",
    "# 2.2.1 from procedure\n",
    "top_k_docs_top_k_tokens_expanded_ranked = get_top_k_ranked_tokens_from_dataframe_with_bm25_and_bo1(irds_trec_covid_dataset_index,top_k_docs_relevant_tokens_expanded_df,2)"
   ]
  },
  {
   "cell_type": "code",
   "execution_count": 162,
   "metadata": {},
   "outputs": [
    {
     "name": "stdout",
     "output_type": "stream",
     "text": [
      "Merging tokens...\n",
      "Expanding queries...\n"
     ]
    }
   ],
   "source": [
    "# 2.2.2 from procedure\n",
    "print('Merging tokens...')\n",
    "top_k_docs_tokens_final = top_k_docs_top_k_tokens_ranked.tolist() + top_k_docs_top_k_tokens_expanded_ranked.tolist()\n",
    "top_k_docs_tokens_final_ranked = get_top_k_ranked_tokens_from_dataframe_with_bm25_and_bo1(irds_trec_covid_dataset_index,get_qid_query_df_from_list(top_k_docs_tokens_final),2)\n",
    "final_expanded_title_queries = expand_queries_with_array_of_tokens(irds_trec_covid_dataset_topics_titles,top_k_docs_tokens_final_ranked)\n",
    "\n",
    "print('Expanding queries...')\n",
    "local_expanded_queries = expand_queries_with_model(irds_trec_covid_dataset_topics_titles,initial_word2vec_model.wv.most_similar,threshold=0.3,max_expansion_word_count=5)\n",
    "local_retrained_expanded_queries = expand_queries_with_model(irds_trec_covid_dataset_topics_titles,retrained_word2vec_model.wv.most_similar,threshold=0.3,max_expansion_word_count=5)\n",
    "global_expanded_queries = expand_queries_with_model(irds_trec_covid_dataset_topics_titles,global_word2vec_model.most_similar,threshold=0.8,max_expansion_word_count=5)"
   ]
  },
  {
   "cell_type": "code",
   "execution_count": 167,
   "metadata": {},
   "outputs": [
    {
     "name": "stdout",
     "output_type": "stream",
     "text": [
      "Running experiments...\n",
      "title_queries\n",
      "                  name    P@5   P@10   nDCG@10      nDCG  RR(rel=2)       map\n",
      "0               TF_IDF  0.688  0.680  0.610112  0.411849   0.688159  0.211321\n",
      "1                 BM25  0.692  0.674  0.600675  0.409234   0.660762  0.206401\n",
      "2                 InL2  0.660  0.634  0.571136  0.411746   0.661016  0.210294\n",
      "3  bm25 >> bo1 >> bm25  0.700  0.662  0.594535  0.425644   0.660942  0.215591\n",
      "final_expanded_title_queries\n",
      "                  name    P@5   P@10   nDCG@10      nDCG  RR(rel=2)       map\n",
      "0               TF_IDF  0.472  0.484  0.380664  0.364996   0.380071  0.174685\n",
      "1                 BM25  0.420  0.430  0.342929  0.360201   0.356497  0.169918\n",
      "2                 InL2  0.448  0.444  0.348149  0.362049   0.373465  0.170820\n",
      "3  bm25 >> bo1 >> bm25  0.452  0.478  0.395623  0.386447   0.454776  0.190425\n",
      "local_expanded_queries\n",
      "                  name    P@5   P@10   nDCG@10      nDCG  RR(rel=2)       map\n",
      "0               TF_IDF  0.460  0.472  0.400135  0.345376   0.446885  0.139070\n",
      "1                 BM25  0.436  0.442  0.377845  0.338094   0.431231  0.132926\n",
      "2                 InL2  0.460  0.454  0.387962  0.339432   0.448468  0.133853\n",
      "3  bm25 >> bo1 >> bm25  0.452  0.440  0.386175  0.354786   0.438930  0.149228\n",
      "local_retrained_expanded_queries\n",
      "                  name    P@5   P@10   nDCG@10      nDCG  RR(rel=2)       map\n",
      "0               TF_IDF  0.460  0.472  0.400135  0.345376   0.446885  0.139070\n",
      "1                 BM25  0.436  0.442  0.377845  0.338094   0.431231  0.132926\n",
      "2                 InL2  0.460  0.454  0.387962  0.339432   0.448468  0.133853\n",
      "3  bm25 >> bo1 >> bm25  0.452  0.440  0.386175  0.354786   0.438930  0.149228\n",
      "global_expanded_queries\n",
      "                  name    P@5   P@10   nDCG@10      nDCG  RR(rel=2)       map\n",
      "0               TF_IDF  0.620  0.600  0.545040  0.374595   0.637970  0.172529\n",
      "1                 BM25  0.632  0.586  0.532333  0.374771   0.615558  0.173135\n",
      "2                 InL2  0.600  0.550  0.502902  0.372837   0.606839  0.170822\n",
      "3  bm25 >> bo1 >> bm25  0.660  0.598  0.550848  0.391076   0.623557  0.188126\n"
     ]
    }
   ],
   "source": [
    "print('Running experiments...')\n",
    "# Experiments\n",
    "experiment = run_experiment(irds_trec_covid_dataset_index, irds_trec_covid_dataset_topics_titles, irds_trec_covid_dataset_topics_qrels)\n",
    "print(\"title_queries\")\n",
    "experiment.to_csv('title_queries_experiment.csv')\n",
    "print(experiment)\n",
    "\n",
    "experiment = run_experiment(irds_trec_covid_dataset_index, final_expanded_title_queries, irds_trec_covid_dataset_topics_qrels)\n",
    "print(\"final_expanded_title_queries\")\n",
    "experiment.to_csv('final_expanded_title_queries.csv')\n",
    "print(experiment)\n",
    "\n",
    "experiment = run_experiment(irds_trec_covid_dataset_index, local_expanded_queries, irds_trec_covid_dataset_topics_qrels)\n",
    "print(\"local_expanded_queries\")\n",
    "experiment.to_csv('local_expanded_queries.csv')\n",
    "print(experiment)\n",
    "\n",
    "experiment = run_experiment(irds_trec_covid_dataset_index, local_retrained_expanded_queries, irds_trec_covid_dataset_topics_qrels)\n",
    "print(\"local_retrained_expanded_queries\")\n",
    "experiment.to_csv('local_retrained_expanded_queries.csv')\n",
    "print(experiment)\n",
    "\n",
    "experiment = run_experiment(irds_trec_covid_dataset_index, global_expanded_queries, irds_trec_covid_dataset_topics_qrels)\n",
    "print(\"global_expanded_queries\")\n",
    "experiment.to_csv('global_expanded_queries.csv')\n",
    "print(experiment)"
   ]
  }
 ],
 "metadata": {
  "kernelspec": {
   "display_name": "Python 3",
   "language": "python",
   "name": "python3"
  },
  "language_info": {
   "codemirror_mode": {
    "name": "ipython",
    "version": 3
   },
   "file_extension": ".py",
   "mimetype": "text/x-python",
   "name": "python",
   "nbconvert_exporter": "python",
   "pygments_lexer": "ipython3",
   "version": "3.10.5"
  },
  "orig_nbformat": 4,
  "vscode": {
   "interpreter": {
    "hash": "ae50ba892a007039ee8b8cd0574fd987a1c048ef5b59b149546a5ae9fb6dc134"
   }
  }
 },
 "nbformat": 4,
 "nbformat_minor": 2
}
