{
 "cells": [
  {
   "attachments": {},
   "cell_type": "markdown",
   "metadata": {},
   "source": [
    "# Helper functions. Run first:"
   ]
  },
  {
   "cell_type": "code",
   "execution_count": null,
   "metadata": {},
   "outputs": [],
   "source": [
    "%%capture\n",
    "\n",
    "%pip install python-terrier\n",
    "%pip install pandas\n",
    "%pip install numpy\n",
    "\n",
    "import pyterrier as pt\n",
    "import pandas as pd\n",
    "import numpy as np\n",
    "\n",
    "if not pt.started():\n",
    "    pt.init()\n",
    "\n",
    "# Helper function to intialize multiple indices\n",
    "# Prepares the index path and avoid errors with already existing indices\n",
    "index_count = 0\n",
    "def prepare_index_path(indexName):\n",
    "    global index_count\n",
    "    index_count = index_count + 1\n",
    "    index_path = 'indices/' + indexName + str(index_count)\n",
    "\n",
    "    if os.path.exists(index_path) & os.path.isdir(index_path):\n",
    "        files = os.listdir(index_path)\n",
    "        for file in files:\n",
    "            file_name = index_path + '/' + file\n",
    "            os.remove(file_name)\n",
    "        os.rmdir(index_path)\n",
    "    elif os.path.exists(index_path) & (not os.path.isdir(index_path)):\n",
    "        os.rmove(index_path)\n",
    "\n",
    "    return os.path.abspath(index_path)\n",
    "\n",
    "\n",
    "def build_index(indexName, dataset):\n",
    "    index_path = prepare_index_path(indexName)\n",
    "    indexer = pt.IterDictIndexer(\n",
    "        index_path, overwrite=True, blocks=True)\n",
    "    indexer.setProperty(\n",
    "        \"stopwords.filename\", os.path.abspath(\"en.txt\"))\n",
    "    index_created = indexer.index(dataset.get_corpus_iter(),\n",
    "                                  fields=['title', 'doi', 'abstract'],\n",
    "                                  meta=('docno',))\n",
    "    return index_created"
   ]
  },
  {
   "attachments": {},
   "cell_type": "markdown",
   "metadata": {},
   "source": [
    "# Question 4"
   ]
  },
  {
   "cell_type": "code",
   "execution_count": null,
   "metadata": {},
   "outputs": [],
   "source": [
    "#  Get Dataset and build index\n",
    "dataset = pt.datasets.get_dataset('irds:cord19/trec-covid')\n",
    "trec_covid_index_ref = build_index('testindex', dataset)\n",
    "trec_covid_index = pt.IndexFactory.of(trec_covid_index_ref)\n",
    "\n",
    "# Get top-3 documents\n",
    "title_queries = dataset.get_topics('title')\n",
    "bm25 = pt.BatchRetrieve(trec_covid_index, wmodel='BM25', num_results=10)\n",
    "res = bm25.transform(title_queries)\n",
    "sorted_results = res.sort_values(by=\"score\", ascending=False)\n",
    "top_3_docs = sorted_results[:3]"
   ]
  },
  {
   "cell_type": "code",
   "execution_count": null,
   "metadata": {},
   "outputs": [],
   "source": [
    "# Get all titles of top-3 documents and add them to an array\n",
    "docs = pd.DataFrame(dataset.get_corpus_iter())\n",
    "tokens = []\n",
    "for index, row in top_3_docs.iterrows():\n",
    "    row = docs.loc[docs[\"docno\"] == row.docno]\n",
    "    #row_tokens = regex_tokenizer.tokenize(row[\"title\"].item())\n",
    "    #tokens = row_tokens + tokens\n",
    "    row_titles = row[\"title\"].item()\n",
    "    tokens.append(row_titles)"
   ]
  },
  {
   "cell_type": "code",
   "execution_count": 10,
   "metadata": {},
   "outputs": [
    {
     "name": "stdout",
     "output_type": "stream",
     "text": [
      "  qid                                              query\n",
      "0   1  A super-spreader of COVID-19 in Ningbo city in...\n",
      "1   2  Significance of super spreader events in COVID-19\n",
      "2   3  Significance of super spreader events in COVID-19\n",
      "   qid                                          query\n",
      "0    1                             coronavirus origin\n",
      "1    2        coronavirus response to weather changes\n",
      "2    3                           coronavirus immunity\n",
      "3    4         how do people die from the coronavirus\n",
      "4    5                      animal models of covid 19\n",
      "5    6                 coronavirus test rapid testing\n",
      "6    7              serological tests for coronavirus\n",
      "7    8                    coronavirus under reporting\n",
      "8    9                          coronavirus in canada\n",
      "9   10           coronavirus social distancing impact\n",
      "10  11                 coronavirus hospital rationing\n",
      "11  12                         coronavirus quarantine\n",
      "12  13                    how does coronavirus spread\n",
      "13  14                    coronavirus super spreaders\n",
      "14  15                       coronavirus outside body\n",
      "15  16  how long does coronavirus survive on surfaces\n",
      "16  17                    coronavirus clinical trials\n",
      "17  18                      masks prevent coronavirus\n",
      "18  19       what alcohol sanitizer kills coronavirus\n",
      "19  20                 coronavirus and ace inhibitors\n",
      "20  21                          coronavirus mortality\n",
      "21  22                      coronavirus heart impacts\n",
      "22  23                       coronavirus hypertension\n",
      "23  24                           coronavirus diabetes\n",
      "24  25                         coronavirus biomarkers\n",
      "25  26                     coronavirus early symptoms\n",
      "26  27                       coronavirus asymptomatic\n",
      "27  28                 coronavirus hydroxychloroquine\n",
      "28  29                   coronavirus drug repurposing\n",
      "29  30                         coronavirus remdesivir\n",
      "30  31         difference between coronavirus and flu\n",
      "31  32                           coronavirus subtypes\n",
      "32  33                 coronavirus vaccine candidates\n",
      "33  34                           coronavirus recovery\n",
      "34  35                    coronavirus public datasets\n",
      "35  36                     sars cov 2 spike structure\n",
      "36  37               sars cov 2 phylogenetic analysis\n",
      "37  38                    covid inflammatory response\n",
      "38  39                        covid 19 cytokine storm\n",
      "39  40                          coronavirus mutations\n",
      "40  41                  covid 19 in african americans\n",
      "41  42                         vitamin d and covid 19\n",
      "42  43                       violence during pandemic\n",
      "43  44    impact of masks on coronavirus transmission\n",
      "44  45               coronavirus mental health impact\n",
      "45  46                      dexamethasone coronavirus\n",
      "46  47                  covid 19 outcomes in children\n",
      "47  48                   school reopening coronavirus\n",
      "48  49               post infection covid 19 immunity\n",
      "49  50                       mrna vaccine coronavirus\n"
     ]
    }
   ],
   "source": [
    "# Put the array into a pd.dataframe for bo1-QE with column 'qid' and 'query' \n",
    "tokens_df = pd.DataFrame(tokens, columns=[\"query\"])\n",
    "tokens_df['qid'] = np.arange(1, len(tokens_df)+1) # start qid index at 1 because in title_queries its the same\n",
    "tokens_df = tokens_df[['qid', 'query']]\n",
    "tokens_df['qid'] = tokens_df['qid'].astype(object) # had to convert because it crashed before"
   ]
  },
  {
   "cell_type": "code",
   "execution_count": 11,
   "metadata": {},
   "outputs": [
    {
     "name": "stdout",
     "output_type": "stream",
     "text": [
      "      qid   docid     docno  rank      score  \\\n",
      "1001   10  119890  km4qijqj     1  44.506971   \n",
      "1000   10  119889  po2c65nb     0  44.506971   \n",
      "1002   10  189615  o9ii9fj3     2  44.230909   \n",
      "31000  38  111061  09lw7d2p     0  41.133142   \n",
      "31001  38  126416  zvzfgdkt     1  41.133142   \n",
      "...    ..     ...       ...   ...        ...   \n",
      "36995  42    1197  vjxmrmfc   995   2.226237   \n",
      "36996  42  163873  gabcaqfu   996   2.225578   \n",
      "36997  42  124173  m7hcyyc3   997   2.225474   \n",
      "36998  42   76050  4uxwojzo   998   2.225423   \n",
      "36999  42   76544  4bnje5un   999   2.221218   \n",
      "\n",
      "                                    query_0  \\\n",
      "1001   coronavirus social distancing impact   \n",
      "1000   coronavirus social distancing impact   \n",
      "1002   coronavirus social distancing impact   \n",
      "31000           covid inflammatory response   \n",
      "31001           covid inflammatory response   \n",
      "...                                     ...   \n",
      "36995                vitamin d and covid 19   \n",
      "36996                vitamin d and covid 19   \n",
      "36997                vitamin d and covid 19   \n",
      "36998                vitamin d and covid 19   \n",
      "36999                vitamin d and covid 19   \n",
      "\n",
      "                                                   query  \n",
      "1001   applypipeline:off coronaviru^1.000000000 socia...  \n",
      "1000   applypipeline:off coronaviru^1.000000000 socia...  \n",
      "1002   applypipeline:off coronaviru^1.000000000 socia...  \n",
      "31000  applypipeline:off covid^1.000000000 inflammato...  \n",
      "31001  applypipeline:off covid^1.000000000 inflammato...  \n",
      "...                                                  ...  \n",
      "36995  applypipeline:off vitamin^1.538089476 covid^1....  \n",
      "36996  applypipeline:off vitamin^1.538089476 covid^1....  \n",
      "36997  applypipeline:off vitamin^1.538089476 covid^1....  \n",
      "36998  applypipeline:off vitamin^1.538089476 covid^1....  \n",
      "36999  applypipeline:off vitamin^1.538089476 covid^1....  \n",
      "\n",
      "[50000 rows x 7 columns]\n"
     ]
    }
   ],
   "source": [
    "# Retrievel mit bm25 >> bo1 >> bm25 Pipeline and title_queries\n",
    "# This should work\n",
    "bm25 = pt.BatchRetrieve(trec_covid_index, wmodel='BM25')\n",
    "bo1 = pt.rewrite.Bo1QueryExpansion(trec_covid_index)\n",
    "pipelineQE = bm25 >> bo1 >> bm25\n",
    "\n",
    "title_queries = dataset.get_topics('title')\n",
    "res = pipelineQE.transform(title_queries)\n",
    "sorted_results = res.sort_values(by=\"score\", ascending=False)\n",
    "print(sorted_results)"
   ]
  },
  {
   "cell_type": "code",
   "execution_count": 12,
   "metadata": {},
   "outputs": [
    {
     "name": "stdout",
     "output_type": "stream",
     "text": [
      "Empty DataFrame\n",
      "Columns: [docid, docno, rank, score, query_0, qid, query]\n",
      "Index: []\n"
     ]
    }
   ],
   "source": [
    "# Retrievel mit bm25 >> bo1 >> bm25 Pipeline and title_queries\n",
    "# This wont work\n",
    "bm25 = pt.BatchRetrieve(trec_covid_index, wmodel='BM25')\n",
    "bo1 = pt.rewrite.Bo1QueryExpansion(trec_covid_index)\n",
    "pipelineQE = bm25 >> bo1 >> bm25\n",
    "\n",
    "res = pipelineQE.transform(tokens_df)\n",
    "sorted_results = res.sort_values(by=\"score\", ascending=False)\n",
    "print(sorted_results)"
   ]
  }
 ],
 "metadata": {
  "kernelspec": {
   "display_name": "Python 3",
   "language": "python",
   "name": "python3"
  },
  "language_info": {
   "codemirror_mode": {
    "name": "ipython",
    "version": 3
   },
   "file_extension": ".py",
   "mimetype": "text/x-python",
   "name": "python",
   "nbconvert_exporter": "python",
   "pygments_lexer": "ipython3",
   "version": "3.10.5"
  },
  "orig_nbformat": 4,
  "vscode": {
   "interpreter": {
    "hash": "ae50ba892a007039ee8b8cd0574fd987a1c048ef5b59b149546a5ae9fb6dc134"
   }
  }
 },
 "nbformat": 4,
 "nbformat_minor": 2
}
