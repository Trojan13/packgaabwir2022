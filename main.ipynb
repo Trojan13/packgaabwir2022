{
 "cells": [
  {
   "attachments": {},
   "cell_type": "markdown",
   "metadata": {},
   "source": [
    "# Setup Code (Run first)\n"
   ]
  },
  {
   "cell_type": "code",
   "execution_count": 2,
   "metadata": {},
   "outputs": [],
   "source": [
    "%%capture\n",
    "# Capture the output but do not do anything with it\n",
    "# Just to avoid cluttering the output\n",
    "\n",
    "%pip install python-terrier==0.9.2\n",
    "%pip install semanticscholar\n",
    "%pip install gensim\n",
    "%pip install seaborn\n",
    "%pip install KrovetzStemmer\n",
    "%pip install nltk\n",
    "%pip install langdetect\n",
    "%pip install Unidecode\n",
    "%pip install pandas\n",
    "%pip install pymed\n",
    "from gensim.models import Word2Vec\n",
    "from tqdm import tqdm\n",
    "from pyterrier.measures import *\n",
    "from ir_utils import *\n",
    "import requests\n",
    "import os\n",
    "import pandas as pd\n",
    "import numpy as np\n",
    "import nltk\n",
    "import time\n",
    "import string\n",
    "\n",
    "TOP_K_TOKENS = 10\n",
    "TOP_K = 10"
   ]
  },
  {
   "attachments": {},
   "cell_type": "markdown",
   "metadata": {},
   "source": [
    "# Initialize pyTerrier and build indices"
   ]
  },
  {
   "cell_type": "code",
   "execution_count": 3,
   "metadata": {},
   "outputs": [
    {
     "name": "stderr",
     "output_type": "stream",
     "text": [
      "PyTerrier 0.9.2 has loaded Terrier 5.7 (built by craigm on 2022-11-10 18:30) and terrier-helper 0.0.7\n",
      "\n",
      "cord19/trec-covid documents: 100%|██████████| 192509/192509 [00:01<00:00, 156759.69it/s]\n"
     ]
    },
    {
     "name": "stdout",
     "output_type": "stream",
     "text": [
      "Got dataset and docs...\n",
      "Creating index...\n",
      "Got topics and qrels...\n"
     ]
    }
   ],
   "source": [
    "pt = get_pyterrier_instance()\n",
    "irds_trec_covid_dataset = pt.datasets.get_dataset('irds:cord19/trec-covid')\n",
    "irds_trec_covid_dataset_docs = pd.DataFrame(irds_trec_covid_dataset.get_corpus_iter())\n",
    "print('Got dataset and docs...')\n",
    "irds_trec_covid_dataset_metadata = pd.read_csv('~/.ir_datasets/cord19/2020-07-16/metadata.csv', low_memory=False)\n",
    "print('Creating index...')\n",
    "#irds_trec_covid_dataset_index = build_index('qetest', irds_trec_covid_dataset)\n",
    "irds_trec_covid_dataset_index = pt.IndexRef.of(\"F:\\Bibliotheken\\Desktop\\Skripte\\packgaabwir2022\\indices\\qetest1\\data.properties\")\n",
    "\n",
    "irds_trec_covid_dataset_topics_titles = irds_trec_covid_dataset.get_topics('title')\n",
    "irds_trec_covid_dataset_topics_qrels = irds_trec_covid_dataset.get_qrels()\n",
    "print('Got topics and qrels...')"
   ]
  },
  {
   "attachments": {},
   "cell_type": "markdown",
   "metadata": {},
   "source": [
    "# Preprocessing, loading models and getting topK-Documents"
   ]
  },
  {
   "cell_type": "code",
   "execution_count": 4,
   "metadata": {},
   "outputs": [
    {
     "name": "stdout",
     "output_type": "stream",
     "text": [
      "Starting  preprocessing...\n",
      "Loading preprocessed data...\n",
      "Loading models ...\n",
      "Loading word2vec model...\n",
      "Downloading word2vec model...\n",
      "Got top 10 docs...\n"
     ]
    }
   ],
   "source": [
    "print('Starting  preprocessing...')\n",
    "irds_trec_covid_dataset_en_docs_preprocessed = preprocess_data(irds_trec_covid_dataset_docs)\n",
    "\n",
    "print('Loading models ...')\n",
    "initial_word2vec_model = get_initial_word2vec_model(irds_trec_covid_dataset_en_docs_preprocessed)\n",
    "global_word2vec_model = get_global_word2vec_model()\n",
    "\n",
    "top_k_docs = get_top_k_docs_bm25(irds_trec_covid_dataset_index, irds_trec_covid_dataset_topics_titles, TOP_K)\n",
    "# 2.1.1 from procedure\n",
    "top_k_docs_title_tokens_df = get_query_qid_df_tokens_from_docs_by_field(irds_trec_covid_dataset_docs,top_k_docs) # [qid, query]\n",
    "print(\"Got top\",len(top_k_docs),\"docs...\")"
   ]
  },
  {
   "attachments": {},
   "cell_type": "markdown",
   "metadata": {},
   "source": [
    "# Getting pseudo relevant documents"
   ]
  },
  {
   "cell_type": "code",
   "execution_count": 12,
   "metadata": {},
   "outputs": [
    {
     "name": "stdout",
     "output_type": "stream",
     "text": [
      "Getting refence titles from sm and pubmed...\n",
      "103 titles found\n",
      "\n",
      "Getting relevant papers from authors...\n",
      "Searching current author: Lin, Jie\n",
      "Query: coronavirus super spreaders\n",
      "Searching current author: Yan, Kun\n",
      "Query: coronavirus super spreaders\n",
      "Searching current author: Zhang, Jingfeng\n",
      "Query: coronavirus super spreaders\n",
      "Searching current author: Cai, Ting\n",
      "Query: coronavirus super spreaders\n",
      "Searching current author: Zheng, Jianjun\n",
      "Query: coronavirus super spreaders\n",
      "Searching current author: Kumar, Sanjiv\n",
      "Query: coronavirus super spreaders\n",
      "Searching current author: Jha, Shreya\n",
      "Query: coronavirus super spreaders\n",
      "Searching current author: Rai, Sanjay Kumar\n",
      "Query: coronavirus super spreaders\n",
      "Searching current author: Kumar, Sanjiv\n",
      "Query: coronavirus super spreaders\n",
      "Searching current author: Jha, Shreya\n",
      "Query: coronavirus super spreaders\n",
      "Searching current author: Rai, Sanjay Kumar\n",
      "Query: coronavirus super spreaders\n",
      "Tokens from top k docs...\n",
      "Preparing abstracts done.\n",
      "Tokens_top_k_docs_abstracts done.\n",
      "Top_k_docs_references_titles done.\n",
      "All_authors_relevant_papers_abstracts done.\n",
      "       qid        query\n",
      "0        0     outbreak\n",
      "1        1   coronaviru\n",
      "2        2      disease\n",
      "3        3         2019\n",
      "4        4      covid19\n",
      "...    ...          ...\n",
      "3461  3461  information\n",
      "3462  3462        share\n",
      "3463  3463        media\n",
      "3464  3464      general\n",
      "3465  3465       public\n",
      "\n",
      "[3466 rows x 2 columns]\n",
      "Ranking tokens...\n"
     ]
    }
   ],
   "source": [
    "print('Getting refence titles from sm and pubmed...') \n",
    "# 2.1.2 from procedure\n",
    "top_k_docs_references_titles = get_all_titles_from_references_of_docs_from_sm_and_pubmed(irds_trec_covid_dataset_metadata,irds_trec_covid_dataset_docs,top_k_docs)\n",
    "print('Getting relevant papers from authors...') \n",
    "# 2.1.3 from procedure\n",
    "top_k_docs_all_authors_relevant_papers_abstracts = get_field_for_all_relevant_authors(irds_trec_covid_dataset_metadata,top_k_docs,TOP_K,field=\"paperAbstract\")\n",
    "\n",
    "print('Tokens from top k docs...') \n",
    "top_k_docs_tokens_df = get_query_qid_df_from_all_preprocessed_tokens_of_docs(irds_trec_covid_dataset_metadata,top_k_docs,top_k_docs_references_titles,top_k_docs_all_authors_relevant_papers_abstracts,field=\"abstract\")\n",
    "\n",
    "print(top_k_docs_tokens_df)\n",
    "print('Ranking tokens...') \n",
    "# 2.1.4 from procedure\n",
    "top_k_docs_top_k_tokens_ranked = get_top_k_ranked_tokens_from_dataframe_with_bm25_and_bo1(irds_trec_covid_dataset_index,top_k_docs_tokens_df,TOP_K_TOKENS)"
   ]
  },
  {
   "attachments": {},
   "cell_type": "markdown",
   "metadata": {},
   "source": [
    "# Retrain word2vec model"
   ]
  },
  {
   "cell_type": "code",
   "execution_count": null,
   "metadata": {},
   "outputs": [],
   "source": [
    "print('Preparing tokens for word2vec...') \n",
    "top_k_docs_all_tokenized_sentences = get_tokenized_sentences_for_word2vec(irds_trec_covid_dataset_metadata,top_k_docs,top_k_docs_references_titles,top_k_docs_all_authors_relevant_papers_abstracts)\n",
    "\n",
    "print('Retraining word2vec...') \n",
    "retrained_word2vec_model = retrain_word2vec_model(initial_word2vec_model,top_k_docs_all_tokenized_sentences)\n",
    "\n",
    "top_k_docs_tokens_array = query_qid_df_to_array(top_k_docs_tokens_df)\n",
    "print(len(top_k_docs_tokens_array))\n",
    "print('Expanding search terms...') \n",
    "top_k_docs_relevant_tokens_expanded_df = expand_search_terms(top_k_docs_tokens_array,retrained_word2vec_model,threshold=0.5,max_expansion_word_count=5)\n",
    "\n",
    "\n",
    "print('Ranking expanded tokens...')\n",
    "# 2.2.1 from procedure\n",
    "top_k_docs_top_k_tokens_expanded_ranked = get_top_k_ranked_tokens_from_dataframe_with_bm25_and_bo1(irds_trec_covid_dataset_index,top_k_docs_relevant_tokens_expanded_df,TOP_K_TOKENS)"
   ]
  },
  {
   "cell_type": "code",
   "execution_count": 26,
   "metadata": {},
   "outputs": [],
   "source": [
    "# set value of query in top_k_docs_relevant_tokens_expanded_df on position 14218 to \"coronavirus\"\n",
    "top_k_docs_top_k_tokens_expanded_ranked = get_top_k_ranked_tokens_from_dataframe_with_bm25_and_bo1(irds_trec_covid_dataset_index,top_k_docs_relevant_tokens_expanded_df,TOP_K_TOKENS)"
   ]
  },
  {
   "attachments": {},
   "cell_type": "markdown",
   "metadata": {},
   "source": [
    "# Merging data and setting up for experiments"
   ]
  },
  {
   "cell_type": "code",
   "execution_count": 27,
   "metadata": {},
   "outputs": [
    {
     "name": "stdout",
     "output_type": "stream",
     "text": [
      "Merging tokens...\n",
      "Expanding queries...\n",
      "\"Key 'coronavirus' not present in vocabulary\"\n",
      "\"Key 'coronavirus' not present in vocabulary\"\n",
      "\"Key 'coronavirus' not present in vocabulary\"\n",
      "\"Key 'immunity' not present in vocabulary\"\n",
      "\"Key 'coronavirus' not present in vocabulary\"\n",
      "\"Key 'models' not present in vocabulary\"\n",
      "\"Key 'coronavirus' not present in vocabulary\"\n",
      "\"Key 'testing' not present in vocabulary\"\n",
      "\"Key 'serological' not present in vocabulary\"\n",
      "\"Key 'tests' not present in vocabulary\"\n",
      "\"Key 'coronavirus' not present in vocabulary\"\n",
      "\"Key 'coronavirus' not present in vocabulary\"\n",
      "\"Key 'reporting' not present in vocabulary\"\n",
      "\"Key 'coronavirus' not present in vocabulary\"\n",
      "\"Key 'coronavirus' not present in vocabulary\"\n",
      "\"Key 'distancing' not present in vocabulary\"\n",
      "\"Key 'coronavirus' not present in vocabulary\"\n",
      "\"Key 'rationing' not present in vocabulary\"\n",
      "\"Key 'coronavirus' not present in vocabulary\"\n",
      "\"Key 'coronavirus' not present in vocabulary\"\n",
      "\"Key 'coronavirus' not present in vocabulary\"\n",
      "\"Key 'spreaders' not present in vocabulary\"\n",
      "\"Key 'coronavirus' not present in vocabulary\"\n",
      "\"Key 'coronavirus' not present in vocabulary\"\n",
      "\"Key 'surfaces' not present in vocabulary\"\n",
      "\"Key 'coronavirus' not present in vocabulary\"\n",
      "\"Key 'trials' not present in vocabulary\"\n",
      "\"Key 'masks' not present in vocabulary\"\n",
      "\"Key 'coronavirus' not present in vocabulary\"\n",
      "\"Key 'sanitizer' not present in vocabulary\"\n",
      "\"Key 'kills' not present in vocabulary\"\n",
      "\"Key 'coronavirus' not present in vocabulary\"\n",
      "\"Key 'coronavirus' not present in vocabulary\"\n",
      "\"Key 'inhibitors' not present in vocabulary\"\n",
      "\"Key 'coronavirus' not present in vocabulary\"\n",
      "\"Key 'coronavirus' not present in vocabulary\"\n",
      "\"Key 'impacts' not present in vocabulary\"\n",
      "\"Key 'coronavirus' not present in vocabulary\"\n",
      "\"Key 'coronavirus' not present in vocabulary\"\n",
      "\"Key 'coronavirus' not present in vocabulary\"\n",
      "\"Key 'biomarkers' not present in vocabulary\"\n",
      "\"Key 'coronavirus' not present in vocabulary\"\n",
      "\"Key 'symptoms' not present in vocabulary\"\n",
      "\"Key 'coronavirus' not present in vocabulary\"\n",
      "\"Key 'coronavirus' not present in vocabulary\"\n",
      "\"Key 'coronavirus' not present in vocabulary\"\n",
      "\"Key 'repurposing' not present in vocabulary\"\n",
      "\"Key 'coronavirus' not present in vocabulary\"\n",
      "\"Key 'coronavirus' not present in vocabulary\"\n",
      "\"Key 'coronavirus' not present in vocabulary\"\n",
      "\"Key 'subtypes' not present in vocabulary\"\n",
      "\"Key 'coronavirus' not present in vocabulary\"\n",
      "\"Key 'candidates' not present in vocabulary\"\n",
      "\"Key 'coronavirus' not present in vocabulary\"\n",
      "\"Key 'coronavirus' not present in vocabulary\"\n",
      "\"Key 'datasets' not present in vocabulary\"\n",
      "\"Key 'sars' not present in vocabulary\"\n",
      "\"Key 'sars' not present in vocabulary\"\n",
      "\"Key 'coronavirus' not present in vocabulary\"\n",
      "\"Key 'mutations' not present in vocabulary\"\n",
      "\"Key 'african' not present in vocabulary\"\n",
      "\"Key 'americans' not present in vocabulary\"\n",
      "\"Key 'masks' not present in vocabulary\"\n",
      "\"Key 'coronavirus' not present in vocabulary\"\n",
      "\"Key 'coronavirus' not present in vocabulary\"\n",
      "\"Key 'coronavirus' not present in vocabulary\"\n",
      "\"Key 'outcomes' not present in vocabulary\"\n",
      "\"Key 'reopening' not present in vocabulary\"\n",
      "\"Key 'coronavirus' not present in vocabulary\"\n",
      "\"Key 'immunity' not present in vocabulary\"\n",
      "\"Key 'coronavirus' not present in vocabulary\"\n",
      "\"Key 'coronavirus' not present in vocabulary\"\n",
      "\"Key 'coronavirus' not present in vocabulary\"\n",
      "\"Key 'coronavirus' not present in vocabulary\"\n",
      "\"Key 'immunity' not present in vocabulary\"\n",
      "\"Key 'coronavirus' not present in vocabulary\"\n",
      "\"Key 'models' not present in vocabulary\"\n",
      "\"Key 'coronavirus' not present in vocabulary\"\n",
      "\"Key 'testing' not present in vocabulary\"\n",
      "\"Key 'serological' not present in vocabulary\"\n",
      "\"Key 'tests' not present in vocabulary\"\n",
      "\"Key 'coronavirus' not present in vocabulary\"\n",
      "\"Key 'coronavirus' not present in vocabulary\"\n",
      "\"Key 'reporting' not present in vocabulary\"\n",
      "\"Key 'coronavirus' not present in vocabulary\"\n",
      "\"Key 'coronavirus' not present in vocabulary\"\n",
      "\"Key 'distancing' not present in vocabulary\"\n",
      "\"Key 'coronavirus' not present in vocabulary\"\n",
      "\"Key 'rationing' not present in vocabulary\"\n",
      "\"Key 'coronavirus' not present in vocabulary\"\n",
      "\"Key 'coronavirus' not present in vocabulary\"\n",
      "\"Key 'coronavirus' not present in vocabulary\"\n",
      "\"Key 'spreaders' not present in vocabulary\"\n",
      "\"Key 'coronavirus' not present in vocabulary\"\n",
      "\"Key 'coronavirus' not present in vocabulary\"\n",
      "\"Key 'surfaces' not present in vocabulary\"\n",
      "\"Key 'coronavirus' not present in vocabulary\"\n",
      "\"Key 'trials' not present in vocabulary\"\n",
      "\"Key 'masks' not present in vocabulary\"\n",
      "\"Key 'coronavirus' not present in vocabulary\"\n",
      "\"Key 'sanitizer' not present in vocabulary\"\n",
      "\"Key 'kills' not present in vocabulary\"\n",
      "\"Key 'coronavirus' not present in vocabulary\"\n",
      "\"Key 'coronavirus' not present in vocabulary\"\n",
      "\"Key 'inhibitors' not present in vocabulary\"\n",
      "\"Key 'coronavirus' not present in vocabulary\"\n",
      "\"Key 'coronavirus' not present in vocabulary\"\n",
      "\"Key 'impacts' not present in vocabulary\"\n",
      "\"Key 'coronavirus' not present in vocabulary\"\n",
      "\"Key 'coronavirus' not present in vocabulary\"\n",
      "\"Key 'coronavirus' not present in vocabulary\"\n",
      "\"Key 'biomarkers' not present in vocabulary\"\n",
      "\"Key 'coronavirus' not present in vocabulary\"\n",
      "\"Key 'symptoms' not present in vocabulary\"\n",
      "\"Key 'coronavirus' not present in vocabulary\"\n",
      "\"Key 'coronavirus' not present in vocabulary\"\n",
      "\"Key 'coronavirus' not present in vocabulary\"\n",
      "\"Key 'repurposing' not present in vocabulary\"\n",
      "\"Key 'coronavirus' not present in vocabulary\"\n",
      "\"Key 'coronavirus' not present in vocabulary\"\n",
      "\"Key 'coronavirus' not present in vocabulary\"\n",
      "\"Key 'subtypes' not present in vocabulary\"\n",
      "\"Key 'coronavirus' not present in vocabulary\"\n",
      "\"Key 'candidates' not present in vocabulary\"\n",
      "\"Key 'coronavirus' not present in vocabulary\"\n",
      "\"Key 'coronavirus' not present in vocabulary\"\n",
      "\"Key 'datasets' not present in vocabulary\"\n",
      "\"Key 'sars' not present in vocabulary\"\n",
      "\"Key 'sars' not present in vocabulary\"\n",
      "\"Key 'coronavirus' not present in vocabulary\"\n",
      "\"Key 'mutations' not present in vocabulary\"\n",
      "\"Key 'african' not present in vocabulary\"\n",
      "\"Key 'americans' not present in vocabulary\"\n",
      "\"Key 'masks' not present in vocabulary\"\n",
      "\"Key 'coronavirus' not present in vocabulary\"\n",
      "\"Key 'coronavirus' not present in vocabulary\"\n",
      "\"Key 'coronavirus' not present in vocabulary\"\n",
      "\"Key 'outcomes' not present in vocabulary\"\n",
      "\"Key 'reopening' not present in vocabulary\"\n",
      "\"Key 'coronavirus' not present in vocabulary\"\n",
      "\"Key 'immunity' not present in vocabulary\"\n",
      "\"Key 'coronavirus' not present in vocabulary\"\n",
      "\"Key 'covid' not present in vocabulary\"\n",
      "\"Key 'hydroxychloroquine' not present in vocabulary\"\n",
      "\"Key 'remdesivir' not present in vocabulary\"\n",
      "\"Key 'covid' not present in vocabulary\"\n",
      "\"Key 'covid' not present in vocabulary\"\n",
      "\"Key 'covid' not present in vocabulary\"\n",
      "\"Key 'covid' not present in vocabulary\"\n",
      "\"Key 'covid' not present in vocabulary\"\n",
      "\"Key 'covid' not present in vocabulary\"\n"
     ]
    }
   ],
   "source": [
    "# 2.2.2 from procedure\n",
    "print('Merging tokens...')\n",
    "top_k_docs_tokens_final = top_k_docs_top_k_tokens_ranked.tolist() + top_k_docs_top_k_tokens_expanded_ranked.tolist()\n",
    "top_k_docs_tokens_final_ranked = get_top_k_ranked_tokens_from_dataframe_with_bm25_and_bo1(irds_trec_covid_dataset_index,get_qid_query_df_from_list(top_k_docs_tokens_final),TOP_K_TOKENS)\n",
    "final_expanded_title_queries = expand_queries_with_array_of_tokens(irds_trec_covid_dataset_topics_titles,top_k_docs_tokens_final_ranked)\n",
    "\n",
    "print('Expanding queries...')\n",
    "local_expanded_queries = expand_queries_with_model(irds_trec_covid_dataset_topics_titles,initial_word2vec_model.wv.most_similar,threshold=0.5,max_expansion_word_count=5)\n",
    "local_retrained_expanded_queries = expand_queries_with_model(irds_trec_covid_dataset_topics_titles,retrained_word2vec_model.wv.most_similar,threshold=0.5,max_expansion_word_count=5)\n",
    "global_expanded_queries = expand_queries_with_model(irds_trec_covid_dataset_topics_titles,global_word2vec_model.most_similar,threshold=0.5,max_expansion_word_count=5)"
   ]
  },
  {
   "attachments": {},
   "cell_type": "markdown",
   "metadata": {},
   "source": [
    "# Experiments"
   ]
  },
  {
   "cell_type": "code",
   "execution_count": 28,
   "metadata": {},
   "outputs": [
    {
     "name": "stdout",
     "output_type": "stream",
     "text": [
      "Running experiments...\n",
      "title_queries\n",
      "                  name    P@5   P@10   nDCG@10      nDCG  RR(rel=2)       map\n",
      "0               TF_IDF  0.688  0.680  0.610112  0.411849   0.688159  0.211321\n",
      "1                 BM25  0.692  0.674  0.600675  0.409234   0.660762  0.206401\n",
      "2                 InL2  0.660  0.634  0.571136  0.411746   0.661016  0.210294\n",
      "3  bm25 >> bo1 >> bm25  0.700  0.662  0.594535  0.425644   0.660942  0.215591\n",
      "final_expanded_title_queries\n",
      "                  name    P@5   P@10   nDCG@10      nDCG  RR(rel=2)       map\n",
      "0               TF_IDF  0.184  0.262  0.208080  0.366985   0.225034  0.166714\n",
      "1                 BM25  0.164  0.234  0.184328  0.361560   0.223562  0.158980\n",
      "2                 InL2  0.172  0.210  0.168289  0.362521   0.206216  0.161192\n",
      "3  bm25 >> bo1 >> bm25  0.168  0.198  0.171359  0.360702   0.224351  0.157750\n",
      "local_expanded_queries\n",
      "                  name    P@5   P@10   nDCG@10      nDCG  RR(rel=2)       map\n",
      "0               TF_IDF  0.428  0.406  0.354057  0.327798   0.429776  0.125653\n",
      "1                 BM25  0.392  0.394  0.342190  0.322598   0.405898  0.121895\n",
      "2                 InL2  0.408  0.402  0.348250  0.322195   0.422021  0.121477\n",
      "3  bm25 >> bo1 >> bm25  0.388  0.384  0.334133  0.334635   0.367900  0.136686\n",
      "local_retrained_expanded_queries\n",
      "                  name    P@5   P@10   nDCG@10      nDCG  RR(rel=2)       map\n",
      "0               TF_IDF  0.428  0.406  0.354057  0.327798   0.429776  0.125653\n",
      "1                 BM25  0.392  0.394  0.342190  0.322598   0.405898  0.121895\n",
      "2                 InL2  0.408  0.402  0.348250  0.322195   0.422021  0.121477\n",
      "3  bm25 >> bo1 >> bm25  0.388  0.384  0.334133  0.334635   0.367900  0.136686\n",
      "global_expanded_queries\n",
      "                  name    P@5   P@10   nDCG@10      nDCG  RR(rel=2)       map\n",
      "0               TF_IDF  0.368  0.370  0.314319  0.294607    0.34802  0.113962\n",
      "1                 BM25  0.344  0.364  0.303311  0.287230    0.32864  0.109174\n",
      "2                 InL2  0.344  0.350  0.294706  0.289320    0.33775  0.110094\n",
      "3  bm25 >> bo1 >> bm25  0.336  0.326  0.291596  0.302255    0.33278  0.126086\n"
     ]
    }
   ],
   "source": [
    "print('Running experiments...')\n",
    "# Experiments\n",
    "experiment = run_experiment(irds_trec_covid_dataset_index, irds_trec_covid_dataset_topics_titles, irds_trec_covid_dataset_topics_qrels)\n",
    "print(\"title_queries\")\n",
    "experiment.to_csv('title_queries_experiment.csv')\n",
    "print(experiment)\n",
    "\n",
    "experiment = run_experiment(irds_trec_covid_dataset_index, final_expanded_title_queries, irds_trec_covid_dataset_topics_qrels)\n",
    "print(\"final_expanded_title_queries\")\n",
    "experiment.to_csv('final_expanded_title_queries.csv')\n",
    "print(experiment)\n",
    "\n",
    "experiment = run_experiment(irds_trec_covid_dataset_index, local_expanded_queries, irds_trec_covid_dataset_topics_qrels)\n",
    "print(\"local_expanded_queries\")\n",
    "experiment.to_csv('local_expanded_queries.csv')\n",
    "print(experiment)\n",
    "\n",
    "experiment = run_experiment(irds_trec_covid_dataset_index, local_retrained_expanded_queries, irds_trec_covid_dataset_topics_qrels)\n",
    "print(\"local_retrained_expanded_queries\")\n",
    "experiment.to_csv('local_retrained_expanded_queries.csv')\n",
    "print(experiment)\n",
    "\n",
    "experiment = run_experiment(irds_trec_covid_dataset_index, global_expanded_queries, irds_trec_covid_dataset_topics_qrels)\n",
    "print(\"global_expanded_queries\")\n",
    "experiment.to_csv('global_expanded_queries.csv')\n",
    "print(experiment)"
   ]
  },
  {
   "cell_type": "code",
   "execution_count": 30,
   "metadata": {},
   "outputs": [],
   "source": [
    "local_expanded_queries.to_csv('local_expanded_queries_queries.csv')"
   ]
  }
 ],
 "metadata": {
  "kernelspec": {
   "display_name": "Python 3",
   "language": "python",
   "name": "python3"
  },
  "language_info": {
   "codemirror_mode": {
    "name": "ipython",
    "version": 3
   },
   "file_extension": ".py",
   "mimetype": "text/x-python",
   "name": "python",
   "nbconvert_exporter": "python",
   "pygments_lexer": "ipython3",
   "version": "3.10.5"
  },
  "orig_nbformat": 4,
  "vscode": {
   "interpreter": {
    "hash": "ae50ba892a007039ee8b8cd0574fd987a1c048ef5b59b149546a5ae9fb6dc134"
   }
  }
 },
 "nbformat": 4,
 "nbformat_minor": 2
}
